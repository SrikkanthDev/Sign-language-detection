{
 "cells": [
  {
   "cell_type": "code",
   "execution_count": 13,
   "metadata": {},
   "outputs": [
    {
     "name": "stdout",
     "output_type": "stream",
     "text": [
      "[1]\n"
     ]
    }
   ],
   "source": [
    "import streamlit as st\n",
    "import numpy as np\n",
    "import pandas as pd\n",
    "from sklearn import datasets, linear_model\n",
    "from sklearn import preprocessing\n",
    "from sklearn.model_selection import train_test_split\n",
    "from sklearn.linear_model import LogisticRegression\n",
    "from sklearn.metrics import accuracy_score\n",
    "from sklearn.preprocessing import LabelEncoder\n",
    "import seaborn as sn\n",
    "from matplotlib import pyplot as plt\n",
    "import joblib\n",
    "import os\n",
    "\n",
    "file=pd.read_csv (r'C:\\Users\\Srikkanth\\Desktop\\Files\\LoanDefaultData.csv',nrows=300000)\n",
    "\n",
    "le=preprocessing.LabelEncoder() #Encoding the string values into labels \n",
    "F = file.apply(le.fit_transform)\n",
    "\n",
    "\n",
    "def load_prediction_models(model_file):\n",
    "\tloaded_model = joblib.load(open(os.path.join(model_file),\"rb\"))\n",
    "\treturn loaded_model\n",
    "\n",
    "\n",
    "\n",
    "\n",
    "Emp_dur = 10\n",
    "own_type = 'RENT'\n",
    "income_type = 'Med'\n",
    "app_type = 'Individual'\n",
    "interestpay = 'High'\n",
    "grade = 'D'\n",
    "annual_pay = 20000\n",
    "loan_amt = 25000\n",
    "intrate = 10.91\n",
    "duration = '36 months'\n",
    "dti = 8.61\n",
    "tot_payment = 13650\n",
    "totalrec = 1400\n",
    "rec = 2207\n",
    "installments = 817\n",
    "\n",
    "\n",
    "\n",
    "print(prediction)\n"
   ]
  },
  {
   "cell_type": "code",
   "execution_count": null,
   "metadata": {},
   "outputs": [],
   "source": []
  },
  {
   "cell_type": "code",
   "execution_count": null,
   "metadata": {},
   "outputs": [],
   "source": []
  },
  {
   "cell_type": "code",
   "execution_count": null,
   "metadata": {},
   "outputs": [],
   "source": []
  }
 ],
 "metadata": {
  "kernelspec": {
   "display_name": "Python 3",
   "language": "python",
   "name": "python3"
  },
  "language_info": {
   "codemirror_mode": {
    "name": "ipython",
    "version": 3
   },
   "file_extension": ".py",
   "mimetype": "text/x-python",
   "name": "python",
   "nbconvert_exporter": "python",
   "pygments_lexer": "ipython3",
   "version": "3.8.3"
  }
 },
 "nbformat": 4,
 "nbformat_minor": 4
}
